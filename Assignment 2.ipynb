{
 "cells": [
  {
   "cell_type": "code",
   "execution_count": 1,
   "id": "cf02aee0",
   "metadata": {},
   "outputs": [],
   "source": [
    "import pandas  as pd\n",
    "import numpy as np\n",
    "# import matplotlib.pyplot as plt\n"
   ]
  },
  {
   "cell_type": "code",
   "execution_count": 2,
   "id": "7da4daa5",
   "metadata": {
    "scrolled": true
   },
   "outputs": [
    {
     "data": {
      "text/html": [
       "<div>\n",
       "<style scoped>\n",
       "    .dataframe tbody tr th:only-of-type {\n",
       "        vertical-align: middle;\n",
       "    }\n",
       "\n",
       "    .dataframe tbody tr th {\n",
       "        vertical-align: top;\n",
       "    }\n",
       "\n",
       "    .dataframe thead th {\n",
       "        text-align: right;\n",
       "    }\n",
       "</style>\n",
       "<table border=\"1\" class=\"dataframe\">\n",
       "  <thead>\n",
       "    <tr style=\"text-align: right;\">\n",
       "      <th></th>\n",
       "      <th>gender</th>\n",
       "      <th>NationalITy</th>\n",
       "      <th>PlaceofBirth</th>\n",
       "      <th>StageID</th>\n",
       "      <th>GradeID</th>\n",
       "      <th>SectionID</th>\n",
       "      <th>Topic</th>\n",
       "      <th>Semester</th>\n",
       "      <th>Relation</th>\n",
       "      <th>cns</th>\n",
       "      <th>dsa</th>\n",
       "      <th>oops</th>\n",
       "      <th>os</th>\n",
       "    </tr>\n",
       "  </thead>\n",
       "  <tbody>\n",
       "    <tr>\n",
       "      <th>0</th>\n",
       "      <td>NaN</td>\n",
       "      <td>KW</td>\n",
       "      <td>KuwaIT</td>\n",
       "      <td>lowerlevel</td>\n",
       "      <td>G-04</td>\n",
       "      <td>A</td>\n",
       "      <td>IT</td>\n",
       "      <td>F</td>\n",
       "      <td>Father</td>\n",
       "      <td>NaN</td>\n",
       "      <td>16.0</td>\n",
       "      <td>2</td>\n",
       "      <td>20</td>\n",
       "    </tr>\n",
       "    <tr>\n",
       "      <th>1</th>\n",
       "      <td>M</td>\n",
       "      <td>KW</td>\n",
       "      <td>NaN</td>\n",
       "      <td>lowerlevel</td>\n",
       "      <td>G-04</td>\n",
       "      <td>A</td>\n",
       "      <td>NaN</td>\n",
       "      <td>F</td>\n",
       "      <td>Father</td>\n",
       "      <td>20.0</td>\n",
       "      <td>20.0</td>\n",
       "      <td>3</td>\n",
       "      <td>25</td>\n",
       "    </tr>\n",
       "    <tr>\n",
       "      <th>2</th>\n",
       "      <td>M</td>\n",
       "      <td>KW</td>\n",
       "      <td>KuwaIT</td>\n",
       "      <td>NaN</td>\n",
       "      <td>G-04</td>\n",
       "      <td>A</td>\n",
       "      <td>IT</td>\n",
       "      <td>F</td>\n",
       "      <td>Father</td>\n",
       "      <td>10.0</td>\n",
       "      <td>7.0</td>\n",
       "      <td>0</td>\n",
       "      <td>30</td>\n",
       "    </tr>\n",
       "    <tr>\n",
       "      <th>3</th>\n",
       "      <td>M</td>\n",
       "      <td>KW</td>\n",
       "      <td>KuwaIT</td>\n",
       "      <td>lowerlevel</td>\n",
       "      <td>G-04</td>\n",
       "      <td>A</td>\n",
       "      <td>IT</td>\n",
       "      <td>F</td>\n",
       "      <td>Father</td>\n",
       "      <td>NaN</td>\n",
       "      <td>25.0</td>\n",
       "      <td>5</td>\n",
       "      <td>35</td>\n",
       "    </tr>\n",
       "    <tr>\n",
       "      <th>4</th>\n",
       "      <td>NaN</td>\n",
       "      <td>KW</td>\n",
       "      <td>KuwaIT</td>\n",
       "      <td>lowerlevel</td>\n",
       "      <td>G-04</td>\n",
       "      <td>A</td>\n",
       "      <td>IT</td>\n",
       "      <td>F</td>\n",
       "      <td>Father</td>\n",
       "      <td>40.0</td>\n",
       "      <td>50.0</td>\n",
       "      <td>12</td>\n",
       "      <td>50</td>\n",
       "    </tr>\n",
       "  </tbody>\n",
       "</table>\n",
       "</div>"
      ],
      "text/plain": [
       "  gender NationalITy PlaceofBirth     StageID GradeID SectionID Topic  \\\n",
       "0    NaN          KW       KuwaIT  lowerlevel    G-04         A    IT   \n",
       "1      M          KW          NaN  lowerlevel    G-04         A   NaN   \n",
       "2      M          KW       KuwaIT         NaN    G-04         A    IT   \n",
       "3      M          KW       KuwaIT  lowerlevel    G-04         A    IT   \n",
       "4    NaN          KW       KuwaIT  lowerlevel    G-04         A    IT   \n",
       "\n",
       "  Semester Relation   cns   dsa  oops  os  \n",
       "0        F   Father   NaN  16.0     2  20  \n",
       "1        F   Father  20.0  20.0     3  25  \n",
       "2        F   Father  10.0   7.0     0  30  \n",
       "3        F   Father   NaN  25.0     5  35  \n",
       "4        F   Father  40.0  50.0    12  50  "
      ]
     },
     "execution_count": 2,
     "metadata": {},
     "output_type": "execute_result"
    }
   ],
   "source": [
    "df = pd.read_csv(\"xAPI-Edu-Data.csv\")\n",
    "df.head()"
   ]
  },
  {
   "cell_type": "code",
   "execution_count": 3,
   "id": "efac4827",
   "metadata": {},
   "outputs": [
    {
     "data": {
      "text/plain": [
       "(28, 13)"
      ]
     },
     "execution_count": 3,
     "metadata": {},
     "output_type": "execute_result"
    }
   ],
   "source": [
    "df.shape"
   ]
  },
  {
   "cell_type": "code",
   "execution_count": 4,
   "id": "be445353",
   "metadata": {},
   "outputs": [
    {
     "name": "stdout",
     "output_type": "stream",
     "text": [
      "<class 'pandas.core.frame.DataFrame'>\n",
      "RangeIndex: 28 entries, 0 to 27\n",
      "Data columns (total 13 columns):\n",
      " #   Column        Non-Null Count  Dtype  \n",
      "---  ------        --------------  -----  \n",
      " 0   gender        22 non-null     object \n",
      " 1   NationalITy   27 non-null     object \n",
      " 2   PlaceofBirth  23 non-null     object \n",
      " 3   StageID       26 non-null     object \n",
      " 4   GradeID       27 non-null     object \n",
      " 5   SectionID     28 non-null     object \n",
      " 6   Topic         24 non-null     object \n",
      " 7   Semester      28 non-null     object \n",
      " 8   Relation      26 non-null     object \n",
      " 9   cns           21 non-null     float64\n",
      " 10  dsa           27 non-null     float64\n",
      " 11  oops          28 non-null     int64  \n",
      " 12  os            28 non-null     int64  \n",
      "dtypes: float64(2), int64(2), object(9)\n",
      "memory usage: 3.0+ KB\n"
     ]
    }
   ],
   "source": [
    "df.info()"
   ]
  },
  {
   "cell_type": "code",
   "execution_count": 5,
   "id": "671b9bf1",
   "metadata": {},
   "outputs": [
    {
     "data": {
      "text/html": [
       "<div>\n",
       "<style scoped>\n",
       "    .dataframe tbody tr th:only-of-type {\n",
       "        vertical-align: middle;\n",
       "    }\n",
       "\n",
       "    .dataframe tbody tr th {\n",
       "        vertical-align: top;\n",
       "    }\n",
       "\n",
       "    .dataframe thead th {\n",
       "        text-align: right;\n",
       "    }\n",
       "</style>\n",
       "<table border=\"1\" class=\"dataframe\">\n",
       "  <thead>\n",
       "    <tr style=\"text-align: right;\">\n",
       "      <th></th>\n",
       "      <th>cns</th>\n",
       "      <th>dsa</th>\n",
       "      <th>oops</th>\n",
       "      <th>os</th>\n",
       "    </tr>\n",
       "  </thead>\n",
       "  <tbody>\n",
       "    <tr>\n",
       "      <th>count</th>\n",
       "      <td>21.000000</td>\n",
       "      <td>27.000000</td>\n",
       "      <td>28.000000</td>\n",
       "      <td>28.000000</td>\n",
       "    </tr>\n",
       "    <tr>\n",
       "      <th>mean</th>\n",
       "      <td>25.571429</td>\n",
       "      <td>26.814815</td>\n",
       "      <td>16.428571</td>\n",
       "      <td>53.392857</td>\n",
       "    </tr>\n",
       "    <tr>\n",
       "      <th>std</th>\n",
       "      <td>20.028908</td>\n",
       "      <td>24.334270</td>\n",
       "      <td>13.658340</td>\n",
       "      <td>28.342272</td>\n",
       "    </tr>\n",
       "    <tr>\n",
       "      <th>min</th>\n",
       "      <td>0.000000</td>\n",
       "      <td>0.000000</td>\n",
       "      <td>0.000000</td>\n",
       "      <td>11.000000</td>\n",
       "    </tr>\n",
       "    <tr>\n",
       "      <th>25%</th>\n",
       "      <td>10.000000</td>\n",
       "      <td>12.000000</td>\n",
       "      <td>3.000000</td>\n",
       "      <td>28.750000</td>\n",
       "    </tr>\n",
       "    <tr>\n",
       "      <th>50%</th>\n",
       "      <td>20.000000</td>\n",
       "      <td>19.000000</td>\n",
       "      <td>14.000000</td>\n",
       "      <td>50.000000</td>\n",
       "    </tr>\n",
       "    <tr>\n",
       "      <th>75%</th>\n",
       "      <td>36.000000</td>\n",
       "      <td>35.000000</td>\n",
       "      <td>26.250000</td>\n",
       "      <td>80.000000</td>\n",
       "    </tr>\n",
       "    <tr>\n",
       "      <th>max</th>\n",
       "      <td>70.000000</td>\n",
       "      <td>88.000000</td>\n",
       "      <td>44.000000</td>\n",
       "      <td>99.000000</td>\n",
       "    </tr>\n",
       "  </tbody>\n",
       "</table>\n",
       "</div>"
      ],
      "text/plain": [
       "             cns        dsa       oops         os\n",
       "count  21.000000  27.000000  28.000000  28.000000\n",
       "mean   25.571429  26.814815  16.428571  53.392857\n",
       "std    20.028908  24.334270  13.658340  28.342272\n",
       "min     0.000000   0.000000   0.000000  11.000000\n",
       "25%    10.000000  12.000000   3.000000  28.750000\n",
       "50%    20.000000  19.000000  14.000000  50.000000\n",
       "75%    36.000000  35.000000  26.250000  80.000000\n",
       "max    70.000000  88.000000  44.000000  99.000000"
      ]
     },
     "execution_count": 5,
     "metadata": {},
     "output_type": "execute_result"
    }
   ],
   "source": [
    "df.describe()"
   ]
  },
  {
   "cell_type": "code",
   "execution_count": 6,
   "id": "948e053d",
   "metadata": {},
   "outputs": [
    {
     "data": {
      "text/plain": [
       "2"
      ]
     },
     "execution_count": 6,
     "metadata": {},
     "output_type": "execute_result"
    }
   ],
   "source": [
    "df.ndim"
   ]
  },
  {
   "cell_type": "code",
   "execution_count": 7,
   "id": "8bf3dd9a",
   "metadata": {},
   "outputs": [
    {
     "name": "stdout",
     "output_type": "stream",
     "text": [
      "gender          6\n",
      "NationalITy     1\n",
      "PlaceofBirth    5\n",
      "StageID         2\n",
      "GradeID         1\n",
      "SectionID       0\n",
      "Topic           4\n",
      "Semester        0\n",
      "Relation        2\n",
      "cns             7\n",
      "dsa             1\n",
      "oops            0\n",
      "os              0\n",
      "dtype: int64\n"
     ]
    }
   ],
   "source": [
    "print(df.isnull().sum())"
   ]
  },
  {
   "cell_type": "code",
   "execution_count": 8,
   "id": "138dc90a",
   "metadata": {},
   "outputs": [
    {
     "name": "stdout",
     "output_type": "stream",
     "text": [
      "gender          0\n",
      "NationalITy     0\n",
      "PlaceofBirth    0\n",
      "StageID         0\n",
      "GradeID         0\n",
      "SectionID       0\n",
      "Topic           0\n",
      "Semester        0\n",
      "Relation        0\n",
      "cns             0\n",
      "dsa             0\n",
      "oops            0\n",
      "os              0\n",
      "dtype: int64\n"
     ]
    },
    {
     "data": {
      "text/plain": [
       "(9, 13)"
      ]
     },
     "execution_count": 8,
     "metadata": {},
     "output_type": "execute_result"
    }
   ],
   "source": [
    "#drop the whole row which having NULL value\n",
    "df.dropna(inplace=True)\n",
    "print(df.isnull().sum())\n",
    "df.shape\n",
    "#these changes not reflect with your dataset , only change in curr data frame \n",
    "#as you again read dataset, NULL are there as before"
   ]
  },
  {
   "cell_type": "code",
   "execution_count": 9,
   "id": "bdfe7bf3",
   "metadata": {},
   "outputs": [
    {
     "name": "stdout",
     "output_type": "stream",
     "text": [
      "0     25.571429\n",
      "1     20.000000\n",
      "2     10.000000\n",
      "3     25.571429\n",
      "4     40.000000\n",
      "5     42.000000\n",
      "6     35.000000\n",
      "7     25.571429\n",
      "8     12.000000\n",
      "9     25.571429\n",
      "10    50.000000\n",
      "11    19.000000\n",
      "12     5.000000\n",
      "13    20.000000\n",
      "14    25.571429\n",
      "15    30.000000\n",
      "16    36.000000\n",
      "17    25.571429\n",
      "18    69.000000\n",
      "19    70.000000\n",
      "20    25.571429\n",
      "21    10.000000\n",
      "22    15.000000\n",
      "23     2.000000\n",
      "24     0.000000\n",
      "25     8.000000\n",
      "26    19.000000\n",
      "27    25.000000\n",
      "Name: cns, dtype: float64\n"
     ]
    }
   ],
   "source": [
    "df = pd.read_csv(\"xAPI-Edu-Data.csv\")\n",
    "#imputation by mean\n",
    "df[\"cns\"]=df[\"cns\"].replace(np.NAN,df[\"cns\"].mean())\n",
    "\n",
    "print(df[\"cns\"])"
   ]
  },
  {
   "cell_type": "code",
   "execution_count": 10,
   "id": "455a55fb",
   "metadata": {},
   "outputs": [
    {
     "name": "stdout",
     "output_type": "stream",
     "text": [
      "0     20.0\n",
      "1     20.0\n",
      "2     10.0\n",
      "3     20.0\n",
      "4     40.0\n",
      "5     42.0\n",
      "6     35.0\n",
      "7     20.0\n",
      "8     12.0\n",
      "9     20.0\n",
      "10    50.0\n",
      "11    19.0\n",
      "12     5.0\n",
      "13    20.0\n",
      "14    20.0\n",
      "15    30.0\n",
      "16    36.0\n",
      "17    20.0\n",
      "18    69.0\n",
      "19    70.0\n",
      "20    20.0\n",
      "21    10.0\n",
      "22    15.0\n",
      "23     2.0\n",
      "24     0.0\n",
      "25     8.0\n",
      "26    19.0\n",
      "27    25.0\n",
      "Name: cns, dtype: float64\n"
     ]
    }
   ],
   "source": [
    "#imputation by median\n",
    "df = pd.read_csv(\"xAPI-Edu-Data.csv\")\n",
    "df[\"cns\"]=df[\"cns\"].replace(np.NAN,df[\"cns\"].median())\n",
    "print(df[\"cns\"])"
   ]
  },
  {
   "cell_type": "code",
   "execution_count": 11,
   "id": "1d806bfd",
   "metadata": {},
   "outputs": [
    {
     "name": "stdout",
     "output_type": "stream",
     "text": [
      "0     20.0\n",
      "1     20.0\n",
      "2     10.0\n",
      "3     20.0\n",
      "4     40.0\n",
      "5     42.0\n",
      "6     35.0\n",
      "7     20.0\n",
      "8     12.0\n",
      "9     20.0\n",
      "10    50.0\n",
      "11    19.0\n",
      "12     5.0\n",
      "13    20.0\n",
      "14    20.0\n",
      "15    30.0\n",
      "16    36.0\n",
      "17    20.0\n",
      "18    69.0\n",
      "19    70.0\n",
      "20    20.0\n",
      "21    10.0\n",
      "22    15.0\n",
      "23     2.0\n",
      "24     0.0\n",
      "25     8.0\n",
      "26    19.0\n",
      "27    25.0\n",
      "Name: cns, dtype: float64\n"
     ]
    }
   ],
   "source": [
    "#imputation by mode\n",
    "df = pd.read_csv(\"xAPI-Edu-Data.csv\")\n",
    "import statistics\n",
    "df[\"cns\"]=df[\"cns\"].replace(np.NAN,statistics.mode(df[\"cns\"]))\n",
    "print(df[\"cns\"])"
   ]
  },
  {
   "cell_type": "code",
   "execution_count": 12,
   "id": "ad04257d",
   "metadata": {},
   "outputs": [
    {
     "name": "stdout",
     "output_type": "stream",
     "text": [
      "0      NaN\n",
      "1     20.0\n",
      "2     10.0\n",
      "3     25.0\n",
      "4     40.0\n",
      "5     42.0\n",
      "6     35.0\n",
      "7     23.5\n",
      "8     12.0\n",
      "9     31.0\n",
      "10    50.0\n",
      "11    19.0\n",
      "12     5.0\n",
      "13    20.0\n",
      "14    25.0\n",
      "15    30.0\n",
      "16    36.0\n",
      "17    52.5\n",
      "18    69.0\n",
      "19    70.0\n",
      "20    40.0\n",
      "21    10.0\n",
      "22    15.0\n",
      "23     2.0\n",
      "24     0.0\n",
      "25     8.0\n",
      "26    19.0\n",
      "27    25.0\n",
      "Name: cns, dtype: float64\n"
     ]
    }
   ],
   "source": [
    "#imputation by interpolation -linear\n",
    "df = pd.read_csv(\"xAPI-Edu-Data.csv\")\n",
    "df[\"cns\"]=df[\"cns\"].interpolate(method='linear',limit_direction='forward',axis=0)\n",
    "print(df[\"cns\"])"
   ]
  },
  {
   "cell_type": "code",
   "execution_count": 13,
   "id": "2e02a3f8",
   "metadata": {},
   "outputs": [
    {
     "name": "stdout",
     "output_type": "stream",
     "text": [
      "gender          6\n",
      "NationalITy     1\n",
      "PlaceofBirth    5\n",
      "StageID         2\n",
      "GradeID         1\n",
      "SectionID       0\n",
      "Topic           4\n",
      "Semester        0\n",
      "Relation        2\n",
      "cns             7\n",
      "dsa             1\n",
      "oops            0\n",
      "os              0\n",
      "dtype: int64\n"
     ]
    },
    {
     "data": {
      "text/plain": [
       "(28, 13)"
      ]
     },
     "execution_count": 13,
     "metadata": {},
     "output_type": "execute_result"
    }
   ],
   "source": [
    "df = pd.read_csv(\"xAPI-Edu-Data.csv\")\n",
    "print(df.isnull().sum())\n",
    "df.shape"
   ]
  },
  {
   "cell_type": "code",
   "execution_count": 14,
   "id": "59cb7a1c",
   "metadata": {},
   "outputs": [
    {
     "name": "stdout",
     "output_type": "stream",
     "text": [
      "0     NaN\n",
      "1       M\n",
      "2       M\n",
      "3       M\n",
      "4       M\n",
      "5       F\n",
      "6       M\n",
      "7       M\n",
      "8       F\n",
      "9       F\n",
      "10      M\n",
      "11      M\n",
      "12      M\n",
      "13      M\n",
      "14      F\n",
      "15      F\n",
      "16      F\n",
      "17      M\n",
      "18      F\n",
      "19      F\n",
      "20      F\n",
      "21      F\n",
      "22      M\n",
      "23      M\n",
      "24      M\n",
      "25      M\n",
      "26      M\n",
      "27      M\n",
      "Name: gender, dtype: object\n"
     ]
    }
   ],
   "source": [
    "#replace categoricl variable with previous value\n",
    "df = pd.read_csv(\"xAPI-Edu-Data.csv\")\n",
    "df[\"gender\"]=df[\"gender\"].fillna(method='ffill')\n",
    "print(df[\"gender\"])"
   ]
  },
  {
   "cell_type": "code",
   "execution_count": 15,
   "id": "cbc96cdc",
   "metadata": {},
   "outputs": [
    {
     "name": "stdout",
     "output_type": "stream",
     "text": [
      "0     100\n",
      "1       M\n",
      "2       M\n",
      "3       M\n",
      "4     100\n",
      "5       F\n",
      "6       M\n",
      "7       M\n",
      "8       F\n",
      "9       F\n",
      "10      M\n",
      "11      M\n",
      "12      M\n",
      "13      M\n",
      "14      F\n",
      "15      F\n",
      "16    100\n",
      "17      M\n",
      "18      F\n",
      "19    100\n",
      "20      F\n",
      "21      F\n",
      "22      M\n",
      "23    100\n",
      "24      M\n",
      "25      M\n",
      "26    100\n",
      "27      M\n",
      "Name: gender, dtype: object\n"
     ]
    }
   ],
   "source": [
    "#create the inconsistent data(as any no is not the value for gender)\n",
    "df1 = pd.read_csv(\"xAPI-Edu-Data.csv\")\n",
    "df1[\"gender\"]=df1[\"gender\"].fillna(100)\n",
    "print(df1[\"gender\"])"
   ]
  },
  {
   "cell_type": "code",
   "execution_count": 16,
   "id": "a608f9dd",
   "metadata": {},
   "outputs": [],
   "source": [
    "#so we replace the inconsistent data with NULL value\n",
    "cnt=0;\n",
    "for row in df1[\"gender\"]:\n",
    "    try:\n",
    "        int(row)\n",
    "        df1.loc[cnt,\"gender\"]=np.nan\n",
    "    except ValueError:\n",
    "        pass\n",
    "    cnt+=1"
   ]
  },
  {
   "cell_type": "code",
   "execution_count": 17,
   "id": "c5453900",
   "metadata": {},
   "outputs": [
    {
     "name": "stdout",
     "output_type": "stream",
     "text": [
      "0     NaN\n",
      "1       M\n",
      "2       M\n",
      "3       M\n",
      "4     NaN\n",
      "5       F\n",
      "6       M\n",
      "7       M\n",
      "8       F\n",
      "9       F\n",
      "10      M\n",
      "11      M\n",
      "12      M\n",
      "13      M\n",
      "14      F\n",
      "15      F\n",
      "16    NaN\n",
      "17      M\n",
      "18      F\n",
      "19    NaN\n",
      "20      F\n",
      "21      F\n",
      "22      M\n",
      "23    NaN\n",
      "24      M\n",
      "25      M\n",
      "26    NaN\n",
      "27      M\n",
      "Name: gender, dtype: object\n"
     ]
    }
   ],
   "source": [
    "print(df1[\"gender\"])"
   ]
  },
  {
   "cell_type": "code",
   "execution_count": null,
   "id": "eb286ab3",
   "metadata": {},
   "outputs": [],
   "source": []
  }
 ],
 "metadata": {
  "kernelspec": {
   "display_name": "Python 3 (ipykernel)",
   "language": "python",
   "name": "python3"
  },
  "language_info": {
   "codemirror_mode": {
    "name": "ipython",
    "version": 3
   },
   "file_extension": ".py",
   "mimetype": "text/x-python",
   "name": "python",
   "nbconvert_exporter": "python",
   "pygments_lexer": "ipython3",
   "version": "3.9.2"
  }
 },
 "nbformat": 4,
 "nbformat_minor": 5
}
